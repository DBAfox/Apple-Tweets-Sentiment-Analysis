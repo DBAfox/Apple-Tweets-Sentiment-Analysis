{
 "cells": [
  {
   "cell_type": "markdown",
   "metadata": {},
   "source": [
    "## Template for scraping Twitter"
   ]
  },
  {
   "cell_type": "code",
   "execution_count": null,
   "metadata": {},
   "outputs": [],
   "source": [
    "#!pip install git+https://github.com/tweepy/tweepy.git"
   ]
  },
  {
   "cell_type": "code",
   "execution_count": null,
   "metadata": {},
   "outputs": [],
   "source": [
    "import tweepy\n",
    "import pandas as pd"
   ]
  },
  {
   "cell_type": "code",
   "execution_count": null,
   "metadata": {},
   "outputs": [],
   "source": [
    "consumer_key = \"*****\" # keys and tokens supressed for privacy \n",
    "consumer_secret = \"*****\" # keys and tokens supressed for privacy\n",
    "access_token = \"*****\"    # keys and tokens supressed for privacy\n",
    "access_token_secret = \"*****\" # keys and tokens supressed for privacy"
   ]
  },
  {
   "cell_type": "code",
   "execution_count": null,
   "metadata": {},
   "outputs": [],
   "source": [
    "#Pass in our twitter API authentication key\n",
    "auth = tweepy.OAuth1UserHandler(\n",
    "    consumer_key, consumer_secret,\n",
    "    access_token, access_token_secret\n",
    ")\n"
   ]
  },
  {
   "cell_type": "code",
   "execution_count": null,
   "metadata": {},
   "outputs": [],
   "source": [
    "#Instantiate the tweepy API\n",
    "api = tweepy.API(auth, wait_on_rate_limit=True)"
   ]
  },
  {
   "cell_type": "code",
   "execution_count": null,
   "metadata": {},
   "outputs": [],
   "source": [
    "keywords = ['iPad', 'i-Pad', 'iPhone', 'i-phone', 'Apple', 'iTunes','Mac']"
   ]
  },
  {
   "cell_type": "code",
   "execution_count": null,
   "metadata": {},
   "outputs": [],
   "source": [
    "# Define a function to search for tweets\n",
    "def search_tweets(api, keywords, num_tweets):\n",
    "    tweets = []\n",
    "    for keyword in keywords:\n",
    "        # Perform the search\n",
    "        search_results = api.search_tweets(q=keyword, count=num_tweets)\n",
    "        # Add the tweets to the list\n",
    "        tweets.extend(search_results)\n",
    "    return tweets\n",
    "\n",
    "# Number of tweets to retrieve\n",
    "num_tweets = 100"
   ]
  },
  {
   "cell_type": "code",
   "execution_count": null,
   "metadata": {},
   "outputs": [],
   "source": [
    "# Search for tweets\n",
    "tweets_data = search_tweets(api, keywords, num_tweets)"
   ]
  },
  {
   "cell_type": "code",
   "execution_count": null,
   "metadata": {},
   "outputs": [],
   "source": [
    "# Convert tweets data to dataframe\n",
    "df_tweets_mp = pd.DataFrame({\n",
    "    \"Text\": [tweet.text for tweet in tweets_data],\n",
    "    \"Username\": [tweet.user.screen_name for tweet in tweets_data],\n",
    "    \"Date\": [tweet.created_at for tweet in tweets_data]\n",
    "})\n",
    "\n",
    "# Save dataframe to a CSV file\n",
    "df_tweets_mp.to_csv(\"df_tweets_mp.csv\", index=False)"
   ]
  },
  {
   "cell_type": "code",
   "execution_count": null,
   "metadata": {},
   "outputs": [],
   "source": [
    "# Display the dataframe\n",
    "df_tweets_mp.head()"
   ]
  }
 ],
 "metadata": {
  "kernelspec": {
   "display_name": "Python (learn-env)",
   "language": "python",
   "name": "learn-env"
  },
  "language_info": {
   "codemirror_mode": {
    "name": "ipython",
    "version": 3
   },
   "file_extension": ".py",
   "mimetype": "text/x-python",
   "name": "python",
   "nbconvert_exporter": "python",
   "pygments_lexer": "ipython3",
   "version": "3.8.5"
  }
 },
 "nbformat": 4,
 "nbformat_minor": 4
}
